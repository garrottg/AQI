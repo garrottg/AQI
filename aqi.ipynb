{
 "cells": [
  {
   "cell_type": "markdown",
   "id": "5b7e408b",
   "metadata": {},
   "source": [
    "# An Analysis of Air Quality in India"
   ]
  },
  {
   "cell_type": "code",
   "execution_count": null,
   "id": "33c7f21f",
   "metadata": {},
   "outputs": [],
   "source": [
    "import pandas as pd\n",
    "import numpy as np\n",
    "import matplotlib.pyplot as plt\n",
    "import seaborn as sns\n",
    "import statsmodels.api as sm\n",
    "from statsmodels.stats.outliers_influence import variance_inflation_factor\n",
    "from sklearn.linear_model import LinearRegression\n",
    "from scipy import stats\n",
    "import scipy"
   ]
  },
  {
   "cell_type": "code",
   "execution_count": null,
   "id": "18dea2f6",
   "metadata": {
    "scrolled": false
   },
   "outputs": [],
   "source": [
    "aqi = pd.read_csv(\"city_day.csv\")\n",
    "aqi"
   ]
  },
  {
   "cell_type": "code",
   "execution_count": null,
   "id": "e8e0b40f",
   "metadata": {
    "scrolled": true
   },
   "outputs": [],
   "source": [
    "aqi.drop(columns = [\"City\", \"Date\", \"AQI_Bucket\"], inplace = True)\n",
    "aqi = aqi.dropna().reset_index(drop = True)\n",
    "aqi"
   ]
  },
  {
   "cell_type": "code",
   "execution_count": null,
   "id": "12077444",
   "metadata": {},
   "outputs": [],
   "source": [
    "pd.plotting.scatter_matrix(aqi, diagonal = \"None\", alpha = 1,figsize = (15,15))\n",
    "plt.savefig(\"scatter_matrix.png\", bbox_inches = \"tight\")\n",
    "plt.show()"
   ]
  },
  {
   "cell_type": "markdown",
   "id": "29e802db",
   "metadata": {},
   "source": [
    "Check Multicollinearity"
   ]
  },
  {
   "cell_type": "code",
   "execution_count": null,
   "id": "7e1c2626",
   "metadata": {},
   "outputs": [],
   "source": [
    "#drop outliers\n",
    "aqi = aqi[aqi[\"AQI\"] <= 400]\n",
    "aqi = aqi.reset_index(drop = True)"
   ]
  },
  {
   "cell_type": "code",
   "execution_count": null,
   "id": "a8afc5de",
   "metadata": {
    "scrolled": true
   },
   "outputs": [],
   "source": [
    "X = aqi.iloc[:, :-1]\n",
    "y = aqi.iloc[:,-1]\n",
    "X = sm.add_constant(X)\n",
    "model = sm.OLS(y,X).fit()\n",
    "model.summary()"
   ]
  },
  {
   "cell_type": "code",
   "execution_count": null,
   "id": "2f24d3e7",
   "metadata": {},
   "outputs": [],
   "source": [
    "#Get ANOVA table\n",
    "ybar = np.mean(y)\n",
    "SST = np.sum((y - ybar)**2)\n",
    "SSR = np.sum((model.fittedvalues - ybar)**2)\n",
    "SSE = np.sum(model.resid**2)\n",
    "k = 12\n",
    "n = len(aqi)\n",
    "dfR = k\n",
    "dfE = n - k - 1\n",
    "dfT = n - 1\n",
    "MSE = SSE/dfE\n",
    "MSR = SSR/dfR\n",
    "F_0  = MSR/MSE\n",
    "p_value = 1 - scipy.stats.f.cdf(F_0, dfR, dfE)\n",
    "columns = [\"Source\", \"df\", \"MS\", \"F_0\", \"pvalue\"]\n",
    "index = [\"Regression\", \"Error\", \"Total\"]\n",
    "data = [[SSR, dfR, MSR, F_0, float(p_value)],[SSE, dfE, MSE,  ],[SST, dfT, ]]\n",
    "anova = pd.DataFrame(data, index, columns)\n",
    "anova"
   ]
  },
  {
   "cell_type": "code",
   "execution_count": null,
   "id": "0fdbde48",
   "metadata": {
    "scrolled": false
   },
   "outputs": [],
   "source": [
    "aqi.corr()"
   ]
  },
  {
   "cell_type": "markdown",
   "id": "963d8edf",
   "metadata": {},
   "source": [
    "Drop PM2.5 and NOx for multicolinearity"
   ]
  },
  {
   "cell_type": "code",
   "execution_count": null,
   "id": "37eadac2",
   "metadata": {
    "scrolled": true
   },
   "outputs": [],
   "source": [
    "aqi.drop(columns = [\"PM2.5\", \"NOx\"], inplace = True)\n",
    "aqi"
   ]
  },
  {
   "cell_type": "code",
   "execution_count": null,
   "id": "3b12693a",
   "metadata": {},
   "outputs": [],
   "source": [
    "X = aqi.iloc[:, :-1]\n",
    "y = aqi.iloc[:,-1]\n",
    "vif_df = pd.DataFrame()\n",
    "vif_df[\"variables\"] = X.columns\n",
    "vif_df[\"VIF\"] = [variance_inflation_factor(X.values,i) for i in range(len(X.columns))]\n",
    "vif_df"
   ]
  },
  {
   "cell_type": "code",
   "execution_count": null,
   "id": "cd30d90c",
   "metadata": {
    "scrolled": true
   },
   "outputs": [],
   "source": [
    "X = aqi.iloc[:, :-1]\n",
    "y = aqi.iloc[:,-1]\n",
    "X = sm.add_constant(X)\n",
    "model = sm.OLS(y,X).fit()\n",
    "model.summary()"
   ]
  },
  {
   "cell_type": "code",
   "execution_count": null,
   "id": "081ecb52",
   "metadata": {
    "scrolled": true
   },
   "outputs": [],
   "source": [
    "#Get ANOVA table\n",
    "ybar = np.mean(y)\n",
    "SST = np.sum((y - ybar)**2)\n",
    "SSR = np.sum((model.fittedvalues - ybar)**2)\n",
    "SSE = np.sum(model.resid**2)\n",
    "k = 10\n",
    "n = len(aqi)\n",
    "dfR = k\n",
    "dfE = n - k - 1\n",
    "dfT = n - 1\n",
    "MSE = SSE/dfE\n",
    "MSR = SSR/dfR\n",
    "F_0  = MSR/MSE\n",
    "p_value = 1 - scipy.stats.f.cdf(F_0, dfR, dfE)\n",
    "columns = [\"Source\", \"df\", \"MS\", \"F_0\", \"pvalue\"]\n",
    "index = [\"Regression\", \"Error\", \"Total\"]\n",
    "data = [[SSR, dfR, MSR, F_0, float(p_value)],[SSE, dfE, MSE,  ],[SST, dfT, ]]\n",
    "anova = pd.DataFrame(data, index, columns)\n",
    "anova"
   ]
  },
  {
   "cell_type": "markdown",
   "id": "e1686287",
   "metadata": {},
   "source": [
    "Now we will do variable selection, This was done in R. "
   ]
  },
  {
   "cell_type": "code",
   "execution_count": null,
   "id": "30fde4af",
   "metadata": {},
   "outputs": [],
   "source": [
    "aqi.drop(columns = [\"NO2\",\"Benzene\"], inplace = True)"
   ]
  },
  {
   "cell_type": "code",
   "execution_count": null,
   "id": "b6e96052",
   "metadata": {
    "scrolled": true
   },
   "outputs": [],
   "source": [
    "X = aqi.iloc[:, 0:-1]\n",
    "y = aqi.iloc[:,-1]\n",
    "X = sm.add_constant(X)\n",
    "model = sm.OLS(y,X).fit()\n",
    "model.summary()"
   ]
  },
  {
   "cell_type": "code",
   "execution_count": null,
   "id": "4f0c6106",
   "metadata": {},
   "outputs": [],
   "source": [
    "ybar = np.mean(y)\n",
    "SST = np.sum((y - ybar)**2)\n",
    "SSR = np.sum((model.fittedvalues - ybar)**2)\n",
    "SSE = np.sum(model.resid**2)\n",
    "k = 8\n",
    "n = len(aqi)\n",
    "dfR = k\n",
    "dfE = n - k - 1\n",
    "dfT = n - 1\n",
    "MSE = SSE/dfE\n",
    "MSR = SSR/dfR\n",
    "F_0  = MSR/MSE\n",
    "p_value = 1 - scipy.stats.f.cdf(F_0, dfR, dfE)\n",
    "columns = [\"Source\", \"df\", \"MS\", \"F_0\", \"pvalue\"]\n",
    "index = [\"Regression\", \"Error\", \"Total\"]\n",
    "data = [[SSR, dfR, MSR, F_0, float(p_value)],[SSE, dfE, MSE,  ],[SST, dfT, ]]\n",
    "anova = pd.DataFrame(data, index, columns)\n",
    "anova"
   ]
  },
  {
   "cell_type": "code",
   "execution_count": null,
   "id": "5c063338",
   "metadata": {},
   "outputs": [],
   "source": [
    "wil = model.params.to_list()"
   ]
  },
  {
   "cell_type": "markdown",
   "id": "3591b625",
   "metadata": {},
   "source": [
    "Now look at the residuals of the model. Get Studentized residuals"
   ]
  },
  {
   "cell_type": "code",
   "execution_count": null,
   "id": "bf0870a1",
   "metadata": {},
   "outputs": [],
   "source": [
    "influence = model.get_influence()"
   ]
  },
  {
   "cell_type": "code",
   "execution_count": null,
   "id": "b6f11c6f",
   "metadata": {
    "scrolled": false
   },
   "outputs": [],
   "source": [
    "#residual plot, to check GMA\n",
    "plt.scatter(model.fittedvalues, influence.resid_studentized_external)\n",
    "plt.xlabel(\"y_hat\")\n",
    "plt.ylabel(\"studentized residuals\")\n",
    "plt.title(\"studentzized residuals vs. y_hat\")\n",
    "plt.savefig(\"residual_plot1.png\", bbox_inches = \"tight\")\n",
    "plt.show()"
   ]
  },
  {
   "cell_type": "code",
   "execution_count": null,
   "id": "68399dc8",
   "metadata": {
    "scrolled": false
   },
   "outputs": [],
   "source": [
    "#Get leverage and influential points\n",
    "leverage = influence.hat_matrix_diag\n",
    "dffits = influence.dffits\n",
    "lev_tol = 2*(11/len(aqi))\n",
    "dffits_tol = 2*np.sqrt(11/(len(aqi)))\n",
    "lev_index = []\n",
    "for i in range(0,len(aqi)):\n",
    "    if leverage[i] > lev_tol:\n",
    "        lev_index.append(i)\n",
    "dffits_index = []\n",
    "for i in range(0,len(aqi)):\n",
    "    if np.abs(dffits[0][i]) > dffits_tol:\n",
    "        dffits_index.append(i)\n",
    "        \n",
    "indeces = lev_index + dffits_index\n",
    "len(indeces)\n",
    "\n",
    "aqi.drop(indeces, axis = 0, inplace = True)\n",
    "aqi = aqi.reset_index(drop = True)\n",
    "\n",
    "X = aqi.iloc[:, :-1]\n",
    "y = aqi.iloc[:,-1]\n",
    "X = sm.add_constant(X)\n",
    "model = sm.OLS(y,X).fit()\n",
    "model.summary()"
   ]
  },
  {
   "cell_type": "code",
   "execution_count": null,
   "id": "7a8df490",
   "metadata": {},
   "outputs": [],
   "source": [
    "ybar = np.mean(y)\n",
    "SST = np.sum((y - ybar)**2)\n",
    "SSR = np.sum((model.fittedvalues - ybar)**2)\n",
    "SSE = np.sum(model.resid**2)\n",
    "k = 8\n",
    "n = len(aqi)\n",
    "dfR = k\n",
    "dfE = n - k - 1\n",
    "dfT = n - 1\n",
    "MSE = SSE/dfE\n",
    "MSR = SSR/dfR\n",
    "F_0  = MSR/MSE\n",
    "p_value = 1 - scipy.stats.f.cdf(F_0, dfR, dfE)\n",
    "columns = [\"Source\", \"df\", \"MS\", \"F_0\", \"pvalue\"]\n",
    "index = [\"Regression\", \"Error\", \"Total\"]\n",
    "data = [[SSR, dfR, MSR, F_0, float(p_value)],[SSE, dfE, MSE,  ],[SST, dfT, ]]\n",
    "anova = pd.DataFrame(data, index, columns)\n",
    "anova"
   ]
  },
  {
   "cell_type": "code",
   "execution_count": null,
   "id": "752f78e1",
   "metadata": {
    "scrolled": false
   },
   "outputs": [],
   "source": [
    "influence = model.get_influence()\n",
    "plt.scatter(model.fittedvalues, influence.resid_studentized_external)\n",
    "plt.xlabel(\"y_hat\")\n",
    "plt.ylabel(\"studentized residuals\")\n",
    "plt.title(\"studentzized residuals vs. y_hat\")\n",
    "plt.savefig(\"residual_plot2.png\", bbox_inches = \"tight\")\n",
    "plt.show()"
   ]
  },
  {
   "cell_type": "code",
   "execution_count": null,
   "id": "4f9116a5",
   "metadata": {},
   "outputs": [],
   "source": [
    "mil = model.params.to_list()"
   ]
  },
  {
   "cell_type": "markdown",
   "id": "4c1025fe",
   "metadata": {},
   "source": [
    "Check change in coefficients after removal of leverage and influential points."
   ]
  },
  {
   "cell_type": "code",
   "execution_count": null,
   "id": "aca0d5c2",
   "metadata": {},
   "outputs": [],
   "source": [
    "diffil = np.array(wil) - np.array(mil)\n",
    "pc = np.abs(diffil/wil)"
   ]
  },
  {
   "cell_type": "code",
   "execution_count": null,
   "id": "24070f5d",
   "metadata": {},
   "outputs": [],
   "source": [
    "diffil"
   ]
  },
  {
   "cell_type": "code",
   "execution_count": null,
   "id": "5b687f0f",
   "metadata": {
    "scrolled": true
   },
   "outputs": [],
   "source": [
    "pc*100"
   ]
  },
  {
   "cell_type": "markdown",
   "id": "a6f46c5b",
   "metadata": {},
   "source": [
    "Now we will put the PM2.5 and NOx back in and drop the PM10 and NO"
   ]
  },
  {
   "cell_type": "code",
   "execution_count": null,
   "id": "72beeb9d",
   "metadata": {
    "scrolled": true
   },
   "outputs": [],
   "source": [
    "aqi = pd.read_csv(\"city_day.csv\")\n",
    "aqi.drop(columns = [\"City\", \"Date\", \"AQI_Bucket\"], inplace = True)\n",
    "aqi = aqi[aqi[\"AQI\"] <= 400]\n",
    "aqi = aqi.dropna().reset_index(drop = True)\n",
    "aqi.drop(columns = [\"PM10\", \"NO\"], inplace = True)\n",
    "aqi"
   ]
  },
  {
   "cell_type": "code",
   "execution_count": null,
   "id": "fd08dd58",
   "metadata": {},
   "outputs": [],
   "source": []
  },
  {
   "cell_type": "code",
   "execution_count": null,
   "id": "de91ca57",
   "metadata": {},
   "outputs": [],
   "source": [
    "X = aqi.iloc[:, :-1]\n",
    "y = aqi.iloc[:,-1]\n",
    "vif_df = pd.DataFrame()\n",
    "vif_df[\"variables\"] = X.columns\n",
    "vif_df[\"VIF\"] = [variance_inflation_factor(X.values,i) for i in range(len(X.columns))]\n",
    "vif_df"
   ]
  },
  {
   "cell_type": "code",
   "execution_count": null,
   "id": "1b380136",
   "metadata": {},
   "outputs": [],
   "source": [
    "X = aqi.iloc[:, :-1]\n",
    "y = aqi.iloc[:,-1]\n",
    "X = sm.add_constant(X)\n",
    "model = sm.OLS(y,X).fit()\n",
    "model.summary()"
   ]
  },
  {
   "cell_type": "code",
   "execution_count": null,
   "id": "1cf0fea6",
   "metadata": {},
   "outputs": [],
   "source": [
    "ybar = np.mean(y)\n",
    "SST = np.sum((y - ybar)**2)\n",
    "SSR = np.sum((model.fittedvalues - ybar)**2)\n",
    "SSE = np.sum(model.resid**2)\n",
    "k = 10\n",
    "n = len(aqi)\n",
    "dfR = k\n",
    "dfE = n - k - 1\n",
    "dfT = n - 1\n",
    "MSE = SSE/dfE\n",
    "MSR = SSR/dfR\n",
    "F_0  = MSR/MSE\n",
    "p_value = 1 - scipy.stats.f.cdf(F_0, dfR, dfE)\n",
    "columns = [\"Source\", \"df\", \"MS\", \"F_0\", \"pvalue\"]\n",
    "index = [\"Regression\", \"Error\", \"Total\"]\n",
    "data = [[SSR, dfR, MSR, F_0, float(p_value)],[SSE, dfE, MSE,  ],[SST, dfT, ]]\n",
    "anova = pd.DataFrame(data, index, columns)\n",
    "anova"
   ]
  },
  {
   "cell_type": "markdown",
   "id": "df4ccec1",
   "metadata": {},
   "source": [
    "Variable selection done in R"
   ]
  },
  {
   "cell_type": "code",
   "execution_count": null,
   "id": "7d382e63",
   "metadata": {},
   "outputs": [],
   "source": [
    "aqi.drop(columns = [\"SO2\", \"Toluene\"], inplace = True)\n",
    "aqi"
   ]
  },
  {
   "cell_type": "code",
   "execution_count": null,
   "id": "86e7b0d1",
   "metadata": {},
   "outputs": [],
   "source": [
    "X = aqi.iloc[:, :-1]\n",
    "y = aqi.iloc[:,-1]\n",
    "X = sm.add_constant(X)\n",
    "model = sm.OLS(y,X).fit()\n",
    "model.summary()"
   ]
  },
  {
   "cell_type": "code",
   "execution_count": null,
   "id": "ee50d227",
   "metadata": {},
   "outputs": [],
   "source": [
    "ybar = np.mean(y)\n",
    "SST = np.sum((y - ybar)**2)\n",
    "SSR = np.sum((model.fittedvalues - ybar)**2)\n",
    "SSE = np.sum(model.resid**2)\n",
    "k = 8\n",
    "n = len(aqi)\n",
    "dfR = k\n",
    "dfE = n - k - 1\n",
    "dfT = n - 1\n",
    "MSE = SSE/dfE\n",
    "MSR = SSR/dfR\n",
    "F_0  = MSR/MSE\n",
    "p_value = 1 - scipy.stats.f.cdf(F_0, dfR, dfE)\n",
    "columns = [\"Source\", \"df\", \"MS\", \"F_0\", \"pvalue\"]\n",
    "index = [\"Regression\", \"Error\", \"Total\"]\n",
    "data = [[SSR, dfR, MSR, F_0, float(p_value)],[SSE, dfE, MSE,  ],[SST, dfT, ]]\n",
    "anova = pd.DataFrame(data, index, columns)\n",
    "anova"
   ]
  },
  {
   "cell_type": "code",
   "execution_count": null,
   "id": "174b3090",
   "metadata": {},
   "outputs": [],
   "source": [
    "wil = model.params.to_list()"
   ]
  },
  {
   "cell_type": "code",
   "execution_count": null,
   "id": "04c70e12",
   "metadata": {},
   "outputs": [],
   "source": [
    "influence = model.get_influence()"
   ]
  },
  {
   "cell_type": "code",
   "execution_count": null,
   "id": "6dac6644",
   "metadata": {},
   "outputs": [],
   "source": [
    "plt.scatter(model.fittedvalues, influence.resid_studentized_external)\n",
    "plt.xlabel(\"y_hat\")\n",
    "plt.ylabel(\"studentized residuals\")\n",
    "plt.title(\"studentzized residuals vs. y_hat\")\n",
    "plt.savefig(\"residual_plot3.png\", bbox_inches = \"tight\")\n",
    "plt.show()"
   ]
  },
  {
   "cell_type": "code",
   "execution_count": null,
   "id": "5c6d371d",
   "metadata": {},
   "outputs": [],
   "source": [
    "leverage = influence.hat_matrix_diag\n",
    "dffits = influence.dffits\n",
    "lev_tol = 2*(11/len(aqi))\n",
    "dffits_tol = 2*np.sqrt(11/(len(aqi)))\n",
    "lev_index = []\n",
    "for i in range(0,len(aqi)):\n",
    "    if leverage[i] > lev_tol:\n",
    "        lev_index.append(i)\n",
    "dffits_index = []\n",
    "for i in range(0,len(aqi)):\n",
    "    if np.abs(dffits[0][i]) > dffits_tol:\n",
    "        dffits_index.append(i)\n",
    "        \n",
    "indeces = lev_index + dffits_index\n",
    "len(indeces)\n",
    "\n",
    "aqi.drop(indeces, axis = 0, inplace = True)\n",
    "aqi = aqi.reset_index(drop = True)\n",
    "\n",
    "X = aqi.iloc[:, :-1]\n",
    "y = aqi.iloc[:,-1]\n",
    "X = sm.add_constant(X)\n",
    "model = sm.OLS(y,X).fit()\n",
    "model.summary()"
   ]
  },
  {
   "cell_type": "code",
   "execution_count": null,
   "id": "bb0837f3",
   "metadata": {},
   "outputs": [],
   "source": [
    "ybar = np.mean(y)\n",
    "SST = np.sum((y - ybar)**2)\n",
    "SSR = np.sum((model.fittedvalues - ybar)**2)\n",
    "SSE = np.sum(model.resid**2)\n",
    "k = 8\n",
    "n = len(aqi)\n",
    "dfR = k\n",
    "dfE = n - k - 1\n",
    "dfT = n - 1\n",
    "MSE = SSE/dfE\n",
    "MSR = SSR/dfR\n",
    "F_0  = MSR/MSE\n",
    "p_value = 1 - scipy.stats.f.cdf(F_0, dfR, dfE)\n",
    "columns = [\"Source\", \"df\", \"MS\", \"F_0\", \"pvalue\"]\n",
    "index = [\"Regression\", \"Error\", \"Total\"]\n",
    "data = [[SSR, dfR, MSR, F_0, float(p_value)],[SSE, dfE, MSE,  ],[SST, dfT, ]]\n",
    "anova = pd.DataFrame(data, index, columns)\n",
    "anova"
   ]
  },
  {
   "cell_type": "code",
   "execution_count": null,
   "id": "059cd5d6",
   "metadata": {},
   "outputs": [],
   "source": [
    "influence = model.get_influence()\n",
    "plt.scatter(model.fittedvalues, influence.resid_studentized_external)\n",
    "plt.xlabel(\"y_hat\")\n",
    "plt.ylabel(\"studentized residuals\")\n",
    "plt.title(\"studentzized residuals vs. y_hat\")\n",
    "plt.savefig(\"residual_plot4.png\", bbox_inches = \"tight\")\n",
    "plt.show()"
   ]
  },
  {
   "cell_type": "code",
   "execution_count": null,
   "id": "6e18cad0",
   "metadata": {},
   "outputs": [],
   "source": [
    "mil = model.params.to_list()"
   ]
  },
  {
   "cell_type": "code",
   "execution_count": null,
   "id": "91b698c4",
   "metadata": {},
   "outputs": [],
   "source": [
    "diffil = np.array(wil) - np.array(mil)\n",
    "pc = np.abs(diffil/wil)"
   ]
  },
  {
   "cell_type": "code",
   "execution_count": null,
   "id": "dda3c8ff",
   "metadata": {},
   "outputs": [],
   "source": [
    "diffil"
   ]
  },
  {
   "cell_type": "code",
   "execution_count": null,
   "id": "60105d63",
   "metadata": {},
   "outputs": [],
   "source": [
    "pc*100"
   ]
  }
 ],
 "metadata": {
  "kernelspec": {
   "display_name": "Python 3 (ipykernel)",
   "language": "python",
   "name": "python3"
  },
  "language_info": {
   "codemirror_mode": {
    "name": "ipython",
    "version": 3
   },
   "file_extension": ".py",
   "mimetype": "text/x-python",
   "name": "python",
   "nbconvert_exporter": "python",
   "pygments_lexer": "ipython3",
   "version": "3.8.16"
  }
 },
 "nbformat": 4,
 "nbformat_minor": 5
}
